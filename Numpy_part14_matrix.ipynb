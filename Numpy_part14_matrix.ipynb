{
 "cells": [
  {
   "cell_type": "markdown",
   "id": "b256906b",
   "metadata": {},
   "source": [
    " #### Matrix"
   ]
  },
  {
   "cell_type": "code",
   "execution_count": 5,
   "id": "b7246bfc",
   "metadata": {},
   "outputs": [
    {
     "name": "stdout",
     "output_type": "stream",
     "text": [
      "[[1 2 3]\n",
      " [4 5 6]]\n",
      "<class 'numpy.matrix'>\n"
     ]
    }
   ],
   "source": [
    "import numpy as np\n",
    "var = np.matrix([[1,2,3],[4,5,6]])\n",
    "\n",
    "print(var)\n",
    "print(type(var))"
   ]
  },
  {
   "cell_type": "code",
   "execution_count": 7,
   "id": "802d7d26",
   "metadata": {},
   "outputs": [
    {
     "name": "stdout",
     "output_type": "stream",
     "text": [
      "[[1 2 3]\n",
      " [4 5 6]]\n",
      "<class 'numpy.ndarray'>\n"
     ]
    }
   ],
   "source": [
    "var1 = np.array([[1,2,3],[4,5,6]])\n",
    "print(var)\n",
    "print(type(var1))"
   ]
  },
  {
   "cell_type": "code",
   "execution_count": 9,
   "id": "07bf0d78",
   "metadata": {},
   "outputs": [
    {
     "name": "stdout",
     "output_type": "stream",
     "text": [
      "[[ 2  4  6]\n",
      " [ 8 10 12]]\n"
     ]
    }
   ],
   "source": [
    "#addition\n",
    "var = np.matrix([[1,2,3],[4,5,6]])\n",
    "var2 = np.matrix([[1,2,3],[4,5,6]])\n",
    "print(var +var2)"
   ]
  },
  {
   "cell_type": "code",
   "execution_count": 20,
   "id": "5c1f26e1",
   "metadata": {},
   "outputs": [
    {
     "name": "stdout",
     "output_type": "stream",
     "text": [
      "[[ 9 12]\n",
      " [24 33]]\n",
      "using dot we can write in this way\n",
      "[[ 9 12]\n",
      " [24 33]]\n"
     ]
    }
   ],
   "source": [
    "#multipilication\n",
    "var = np.matrix([[1,2],[4,5]])\n",
    "var2 = np.matrix([[1,2],[4,5]])\n",
    "print(var*var2)\n",
    "\n",
    "\n",
    "print(\"using dot we can write in this way\")\n",
    "print(var.dot(var2))"
   ]
  }
 ],
 "metadata": {
  "kernelspec": {
   "display_name": "Python 3 (ipykernel)",
   "language": "python",
   "name": "python3"
  },
  "language_info": {
   "codemirror_mode": {
    "name": "ipython",
    "version": 3
   },
   "file_extension": ".py",
   "mimetype": "text/x-python",
   "name": "python",
   "nbconvert_exporter": "python",
   "pygments_lexer": "ipython3",
   "version": "3.9.12"
  }
 },
 "nbformat": 4,
 "nbformat_minor": 5
}
